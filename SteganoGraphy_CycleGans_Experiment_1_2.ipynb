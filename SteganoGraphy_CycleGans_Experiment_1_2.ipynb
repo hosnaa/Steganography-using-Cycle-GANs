{
  "nbformat": 4,
  "nbformat_minor": 0,
  "metadata": {
    "colab": {
      "name": "Copy of Cycle GAN.ipynb",
      "provenance": [],
      "collapsed_sections": []
    },
    "kernelspec": {
      "display_name": "Python 3",
      "name": "python3"
    },
    "language_info": {
      "name": "python"
    },
    "accelerator": "GPU"
  },
  "cells": [
    {
      "cell_type": "markdown",
      "source": [
        "# Important Notes:\n",
        "## Notebook Text Cells\n",
        "This Notebook relies on the open-source architecture of cycle-gan published in this [article](https://machinelearningmastery.com/cyclegan-tutorial-with-keras/). As it was developed for incorporating understanding and implementation, you may find text cells that explain the architecture where you would find the word \"**EXPLAIN**\" before it. \n",
        "\n",
        "## Dataset:\n",
        "The dataset used here is a sample of texture data available [here](https://www.cb.uu.se/~gustaf/texture/)\n",
        "\n",
        "## New Implementation:\n",
        "The parts we believe might be new in this specific problem and method are highlighted by \"**NEW Trial**\" to facilitate tracking\n",
        "\n"
      ],
      "metadata": {
        "id": "E1TvTHis6mNQ"
      }
    },
    {
      "cell_type": "markdown",
      "metadata": {
        "id": "V7QSdFOk1UUP"
      },
      "source": [
        "# 0. Import Libraries"
      ]
    },
    {
      "cell_type": "code",
      "metadata": {
        "id": "Apt-1TIR0Fbi"
      },
      "source": [
        "!pip install git+https://www.github.com/keras-team/keras-contrib.git"
      ],
      "execution_count": null,
      "outputs": []
    },
    {
      "cell_type": "code",
      "metadata": {
        "id": "mOTUe7Nkuivz"
      },
      "source": [
        "from random import random\n",
        "from numpy import load\n",
        "from numpy import zeros\n",
        "from numpy import ones\n",
        "from numpy import asarray\n",
        "from numpy.random import randint\n",
        "from tensorflow.keras.optimizers import Adam\n",
        "from keras.initializers import RandomNormal\n",
        "from keras.models import Model\n",
        "from keras.models import Input\n",
        "from keras.layers import Conv2D\n",
        "from keras.layers import Conv2DTranspose\n",
        "from keras.layers import LeakyReLU\n",
        "from keras.layers import Activation\n",
        "from keras.layers import Concatenate\n",
        "from keras_contrib.layers.normalization.instancenormalization import InstanceNormalization\n",
        "from matplotlib import pyplot\n",
        "from keras import layers\n",
        "import tensorflow as tf\n",
        "from keras.models import load_model"
      ],
      "execution_count": null,
      "outputs": []
    },
    {
      "cell_type": "code",
      "metadata": {
        "colab": {
          "base_uri": "https://localhost:8080/"
        },
        "id": "f4N8Qr9vhoXo",
        "outputId": "c746c42b-2b8a-4fe9-c0a6-dd15019e24d0"
      },
      "source": [
        "from google.colab import drive\n",
        "drive.mount('/content/drive')"
      ],
      "execution_count": null,
      "outputs": [
        {
          "output_type": "stream",
          "name": "stdout",
          "text": [
            "Drive already mounted at /content/drive; to attempt to forcibly remount, call drive.mount(\"/content/drive\", force_remount=True).\n"
          ]
        }
      ]
    },
    {
      "cell_type": "markdown",
      "metadata": {
        "id": "Vwa2C51nxrfR"
      },
      "source": [
        "We have 2 generators and 2 discriminators corresponding to each domain of images (could be the real images and the stegano one; re-check the paper to know what are your 2 domains of images)\n",
        "\n",
        "# Explain 1.\\\n",
        "Domain-A -> Discriminator-A -> [Real/Fake] \\\n",
        "Domain-B -> Generator-A -> Discriminator-A -> [Real/Fake]\n",
        "\n",
        "Domain-B -> Discriminator-B -> [Real/Fake]\\\n",
        "Domain-A -> Generator-B -> Discriminator-B -> [Real/Fake]\n",
        "\n",
        "# Explain 2.\\\n",
        "Cycle Consistency \\\n",
        "((Genertor A: means it generate sth as domain A, but takes input as anything except domain A)) \\\n",
        "**Domain-B** -> **Generator-A** -> **Domain-A** -> Generator-B -> Domain-B\n",
        "# Explain 3.\\\n",
        "Identity Mapping (result in better color profile)"
      ]
    },
    {
      "cell_type": "markdown",
      "source": [
        "## The next code until (4) if ran once, no need for running it again and we use the compressed file directly"
      ],
      "metadata": {
        "id": "duLjT4hy9j6T"
      }
    },
    {
      "cell_type": "markdown",
      "metadata": {
        "id": "LY4JCY-1y-8i"
      },
      "source": [
        "# 1. Load the images of Domain A (Texture) [train+test] into two arrays"
      ]
    },
    {
      "cell_type": "code",
      "metadata": {
        "id": "p8t9ZQNwGL2J"
      },
      "source": [
        "# example of preparing the horses and zebra dataset\n",
        "from os import listdir\n",
        "from numpy import asarray\n",
        "from numpy import vstack\n",
        "from keras.preprocessing.image import img_to_array\n",
        "from keras.preprocessing.image import load_img\n",
        "from numpy import savez_compressed\n",
        "import pandas as pd\n",
        "from PIL import Image, ImageDraw\n",
        "import random as rd\n",
        "import numpy as np"
      ],
      "execution_count": null,
      "outputs": []
    },
    {
      "cell_type": "markdown",
      "source": [
        "#### 1.1. Unzip the data"
      ],
      "metadata": {
        "id": "jZNgtWA98UN9"
      }
    },
    {
      "cell_type": "code",
      "source": [
        "import zipfile\n",
        "with zipfile.ZipFile(\"/content/drive/MyDrive/final.zip\",\"r\") as zip_ref:\n",
        "    zip_ref.extractall(\"final\")"
      ],
      "metadata": {
        "id": "zEcxIbbiJxwL"
      },
      "execution_count": null,
      "outputs": []
    },
    {
      "cell_type": "markdown",
      "source": [
        "#### 1.2. Load the data in numpy arrays"
      ],
      "metadata": {
        "id": "Agf3Wyxq8adn"
      }
    },
    {
      "cell_type": "code",
      "metadata": {
        "colab": {
          "base_uri": "https://localhost:8080/"
        },
        "id": "E89Lpce1yAf_",
        "outputId": "4b98cfc7-4d20-4970-e552-9c6c243bfae8"
      },
      "source": [
        "# load all images in a directory into memory\n",
        "def load_images(path, size=(256,256)):\n",
        "\tdata_list = list()\n",
        "\t# enumerate filenames in directory, assume all are images\n",
        "\tfor filename in listdir(path):\n",
        "\t\t# load and resize the image\n",
        "\t\tpixels = load_img(path + filename, target_size=size)\n",
        "\t\t# convert to numpy array\n",
        "\t\tpixels = img_to_array(pixels)\n",
        "\t\t# store\n",
        "\t\tdata_list.append(pixels)\n",
        "\treturn asarray(data_list)\n",
        "\n",
        "# dataset path\n",
        "path = '/content/final/final/'\n",
        "\n",
        "# load dataset A\n",
        "dataA1 = load_images(path + 'trainA/')\n",
        "dataAB = load_images(path + 'testA/')\n",
        "dataA = vstack((dataA1, dataAB))\n",
        "print('Loaded dataA: ', dataA.shape)\n"
      ],
      "execution_count": null,
      "outputs": [
        {
          "output_type": "stream",
          "name": "stdout",
          "text": [
            "Loaded dataA:  (299, 256, 256, 3)\n"
          ]
        }
      ]
    },
    {
      "cell_type": "markdown",
      "source": [
        "# 2. Domain B (Text) [train+test]\n",
        "# Load the CSV file and generate blank images with the text\n",
        "# **NEW Trial**"
      ],
      "metadata": {
        "id": "qQgpyOFMJfpI"
      }
    },
    {
      "cell_type": "markdown",
      "source": [
        "#### 2.1. Load the csv file"
      ],
      "metadata": {
        "id": "SNeMVKQC83nC"
      }
    },
    {
      "cell_type": "code",
      "source": [
        "dataset = pd.read_csv(\"/content/drive/MyDrive/tamil_thirukkural_train.csv\")\n",
        "sub_df= dataset.iloc[0]"
      ],
      "metadata": {
        "id": "zfQwbISTJbGx"
      },
      "execution_count": null,
      "outputs": []
    },
    {
      "cell_type": "markdown",
      "source": [
        "#### 2.2. Generate train images from the text (text colored in yellow) and the background changes each time"
      ],
      "metadata": {
        "id": "aX4814K389Qo"
      }
    },
    {
      "cell_type": "code",
      "source": [
        "text_img =[]\n",
        "Rand_number_for_color = randint(0, 255)\n",
        "for i in range(0,239):\n",
        "  img = Image.new('RGB', (256, 256), color = (Rand_number_for_color, Rand_number_for_color, Rand_number_for_color))\n",
        "  d = ImageDraw.Draw(img)\n",
        "  d.text((5,5), dataset.at[i,'explanation'], fill=(255,255,0))\n",
        "  n = np.array(img)\n",
        "  text_img.append(n)"
      ],
      "metadata": {
        "id": "xC72SylGLXRP"
      },
      "execution_count": null,
      "outputs": []
    },
    {
      "cell_type": "markdown",
      "source": [
        "#### 2.3. Generate train images from the text"
      ],
      "metadata": {
        "id": "DCbrxKxP9P3G"
      }
    },
    {
      "cell_type": "code",
      "source": [
        "text_img_test =[]\n",
        "for i in range(239,299):\n",
        "  img = Image.new('RGB', (256, 256), color = (Rand_number_for_color, Rand_number_for_color, Rand_number_for_color))\n",
        "  d = ImageDraw.Draw(img)\n",
        "  d.text((5,5), dataset.at[i,'explanation'], fill=(255,255,0))\n",
        "  n = np.array(img)\n",
        "  text_img_test.append(n)\n"
      ],
      "metadata": {
        "id": "CK3_TVuWLfnl"
      },
      "execution_count": null,
      "outputs": []
    },
    {
      "cell_type": "markdown",
      "source": [
        "#### 2.4. Convert to NumPy arrays"
      ],
      "metadata": {
        "id": "qq_CJdqz9aec"
      }
    },
    {
      "cell_type": "code",
      "source": [
        "list_of_gen_img_train = np.array(text_img)\n",
        "list_of_gen_img_test = np.array(text_img_test)"
      ],
      "metadata": {
        "id": "7uXSl4kJLfqT"
      },
      "execution_count": null,
      "outputs": []
    },
    {
      "cell_type": "markdown",
      "source": [
        "# 3. Compressing the images of the two domains together"
      ],
      "metadata": {
        "id": "Y_T6sf4zLlbn"
      }
    },
    {
      "cell_type": "code",
      "source": [
        "dataA = vstack((dataA1, dataAB))\n",
        "dataB = vstack((list_of_gen_img_train, list_of_gen_img_test))"
      ],
      "metadata": {
        "id": "egBF_UruLjlh"
      },
      "execution_count": null,
      "outputs": []
    },
    {
      "cell_type": "code",
      "source": [
        "filename = '/content/drive/MyDrive/CS_text.npz'\n",
        "savez_compressed(filename, dataA, dataB)\n",
        "print('Saved dataset: ', filename)"
      ],
      "metadata": {
        "colab": {
          "base_uri": "https://localhost:8080/"
        },
        "id": "cgG_VXp-Lpsq",
        "outputId": "f2df6e39-b90e-4a24-a454-4905fe47b686"
      },
      "execution_count": null,
      "outputs": [
        {
          "output_type": "stream",
          "name": "stdout",
          "text": [
            "Saved dataset:  /content/drive/MyDrive/CS_text.npz\n"
          ]
        }
      ]
    },
    {
      "cell_type": "markdown",
      "metadata": {
        "id": "jQUXbKLpzkBT"
      },
      "source": [
        "## 3.2. Load the compressed images and plot, for exploration"
      ]
    },
    {
      "cell_type": "code",
      "metadata": {
        "id": "RweXloVizUgN",
        "colab": {
          "base_uri": "https://localhost:8080/",
          "height": 265
        },
        "outputId": "fd290f1e-9660-411e-997c-438384889b8c"
      },
      "source": [
        "# load and plot the prepared dataset\n",
        "from numpy import load\n",
        "from matplotlib import pyplot\n",
        "\n",
        "# load the dataset\n",
        "data = load('/content/drive/MyDrive/CS_text.npz')\n",
        "dataA, dataB = data['arr_0'], data['arr_1']\n",
        "print('Loaded: ', dataA.shape, dataB.shape)\n",
        "\n",
        "# plot source images\n",
        "n_samples = 3\n",
        "for i in range(n_samples):\n",
        "\tpyplot.subplot(2, n_samples, 1 + i)\n",
        "\tpyplot.axis('off')\n",
        "\tpyplot.imshow(dataA[i].astype('uint8'))\n",
        " \n",
        "# plot target image\n",
        "for i in range(n_samples):\n",
        "\tpyplot.subplot(2, n_samples, 1 + n_samples + i)\n",
        "\tpyplot.axis('off')\n",
        "\tpyplot.imshow(dataB[i].astype('uint8'))\n",
        "pyplot.show()"
      ],
      "execution_count": null,
      "outputs": [
        {
          "output_type": "stream",
          "name": "stdout",
          "text": [
            "Loaded:  (299, 256, 256, 3) (299, 256, 256, 3)\n"
          ]
        },
        {
          "output_type": "display_data",
          "data": {
            "image/png": "[encoded data removed]",
            "text/plain": [
              "<Figure size 432x288 with 6 Axes>"
            ]
          },
          "metadata": {
            "needs_background": "light"
          }
        }
      ]
    },
    {
      "cell_type": "markdown",
      "metadata": {
        "id": "IBxxBq000O1V"
      },
      "source": [
        "# 4. Develop Cycle GAN\n",
        "(Use keras; output -> Color Images of size 256x256) \\\n",
        "- The architecture is comprised of **four** models, **two discriminator** models, and **two generator** models.\n",
        "\n"
      ]
    },
    {
      "cell_type": "markdown",
      "metadata": {
        "id": "4oAnsniH3HxK"
      },
      "source": [
        "## 4.1. Discriminator Model\n",
        "## Explain\n",
        "\n",
        "- **Discriminator** is CNN for **image classification**; one for each domain.\n",
        "\n",
        "- CycleGAN **discriminator**: `Convolutional-BatchNorm-LeakyReLU` but uses **InstanceNormalization** instead of BatchNormalization; standardizing the values on **each output feature map**, rather than across features in a batch. Instance norm has implementation in [keras contrib project](https://github.com/keras-team/keras-contrib).\n",
        "\n",
        "- The discriminator model takes a 256×256 sized image as input and **outputs** a **patch of predictions 70x70**"
      ]
    },
    {
      "cell_type": "code",
      "metadata": {
        "id": "dzX5gOWw27io"
      },
      "source": [
        "# define the discriminator model\n",
        "def define_discriminator(image_shape):\n",
        "\n",
        "\t# weight initialization\n",
        "\tinit = RandomNormal(stddev=0.02)\n",
        "\t# source image input\n",
        "\tin_image = Input(shape=image_shape)\n",
        "\t# C64\n",
        "\td = Conv2D(64, (4,4), strides=(2,2), padding='same', kernel_initializer=init)(in_image)\n",
        "\td = LeakyReLU(alpha=0.2)(d)\n",
        "\t# C128\n",
        "\td = Conv2D(128, (4,4), strides=(2,2), padding='same', kernel_initializer=init)(d)\n",
        "  # “axis” argument is set to -1 to ensure that features are normalized per feature map.\n",
        "\td = InstanceNormalization(axis=-1)(d)\n",
        "\td = LeakyReLU(alpha=0.2)(d)\n",
        "\t# C256\n",
        "\td = Conv2D(256, (4,4), strides=(2,2), padding='same', kernel_initializer=init)(d)\n",
        "\td = InstanceNormalization(axis=-1)(d)\n",
        "\td = LeakyReLU(alpha=0.2)(d)\n",
        "\t# C512\n",
        "\td = Conv2D(512, (4,4), strides=(2,2), padding='same', kernel_initializer=init)(d)\n",
        "\td = InstanceNormalization(axis=-1)(d)\n",
        "\td = LeakyReLU(alpha=0.2)(d)\n",
        "\t# second last output layer\n",
        "\td = Conv2D(512, (4,4), padding='same', kernel_initializer=init)(d)\n",
        "\td = InstanceNormalization(axis=-1)(d)\n",
        "\td = LeakyReLU(alpha=0.2)(d)\n",
        "\t# patch output\n",
        "\tpatch_out = Conv2D(1, (4,4), padding='same', kernel_initializer=init)(d)\n",
        "\t# define model\n",
        "\tmodel = Model(in_image, patch_out)\n",
        "\t# compile model\n",
        "\tmodel.compile(loss='mse', optimizer=Adam(lr=0.0002, beta_1=0.5), loss_weights=[0.5])\n",
        " \n",
        "\treturn model"
      ],
      "execution_count": null,
      "outputs": []
    },
    {
      "cell_type": "markdown",
      "metadata": {
        "id": "thZwaBRgYABN"
      },
      "source": [
        "## 4.2. Generator Model\n",
        "## Explain\n",
        "- Generator is an **encoder-decoder** model.\n",
        "- Model takes **source image** (domain A) and generates **target image** (domain B).\n",
        "1. Downsample (encode) input (by bottleNeck)\n",
        "2. Interpret this by **ResNet**, then series of **upsample** or decode to return back to original size.\n"
      ]
    },
    {
      "cell_type": "markdown",
      "source": [
        "### 4.2.1. ResNet Original\n",
        "##### ResNet: Used to solve the problem of the DL models having exploding or vanishing gradients."
      ],
      "metadata": {
        "id": "Sw14kS31--04"
      }
    },
    {
      "cell_type": "code",
      "metadata": {
        "id": "h9m-nRKm2_YU"
      },
      "source": [
        "# Generator: ResNet block\n",
        "def resnet_block_original(n_filters, input_layer):\n",
        "\t# weight initialization\n",
        "\tinit = RandomNormal(stddev=0.02)\n",
        "\t# first layer convolutional layer\n",
        "\tg = Conv2D(n_filters, (3,3), padding='same', kernel_initializer=init)(input_layer)\n",
        "\tg = InstanceNormalization(axis=-1)(g)\n",
        "\tg = Activation('relu')(g)\n",
        "\t# second convolutional layer\n",
        "\tg = Conv2D(n_filters, (3,3), padding='same', kernel_initializer=init)(g)\n",
        "\tg = InstanceNormalization(axis=-1)(g)\n",
        "\t# concatenate merge channel-wise with input layer\n",
        "\tg = Concatenate()([g, input_layer])\n",
        "\treturn g"
      ],
      "execution_count": null,
      "outputs": []
    },
    {
      "cell_type": "markdown",
      "source": [
        "### 4.2.2. ResNet Modified (as in [GAN-CLS](https://arxiv.org/abs/1806.11302))\n",
        "# **NEW Trial**"
      ],
      "metadata": {
        "id": "nY7g0_bd_HMY"
      }
    },
    {
      "cell_type": "code",
      "source": [
        "# Generator: ResNet block\n",
        "#### Probably we can ignore this\n",
        "def resnet_block_modified(n_filters, input_layer): ### we may change the n_filters to 256 instead of 64\n",
        "\t# weight initialization\n",
        "  \n",
        "  init = RandomNormal(stddev=0.02)\n",
        "  g = Conv2D(64, (3,3) , strides = 1, padding='same', kernel_initializer=init)(input_layer)\n",
        "  g = layers.BatchNormalization(momentum=0.5)(g)\n",
        "  g = tf.keras.layers.PReLU(alpha_initializer='zeros', alpha_regularizer=None, alpha_constraint=None, shared_axes=[1, 2])(g)\n",
        "  g = Conv2D(64, (3,3), strides = 1, padding='same', kernel_initializer=init)(g)\n",
        "  g = layers.BatchNormalization(momentum=0.5)(g)\n",
        "  g = Concatenate()([g, input_layer])\n",
        "  return g"
      ],
      "metadata": {
        "id": "bYmuC8vO11XQ"
      },
      "execution_count": null,
      "outputs": []
    },
    {
      "cell_type": "markdown",
      "source": [
        "### 4.2.3. Generator"
      ],
      "metadata": {
        "id": "tLCSR8lr_o6e"
      }
    },
    {
      "cell_type": "code",
      "metadata": {
        "id": "wzucYSR_avFi"
      },
      "source": [
        "### 9-ResNet blocks for 256x256 images for generator\n",
        "\n",
        "# define the standalone generator model\n",
        "def define_generator(image_shape, n_resnet=9):\n",
        "\t# weight initialization\n",
        "\tinit = RandomNormal(stddev=0.02)\n",
        "\t# image input\n",
        "\tin_image = Input(shape=image_shape)\n",
        "\t# c7s1-64\n",
        "\tg = Conv2D(64, (7,7), padding='same', kernel_initializer=init)(in_image)\n",
        "\tg = InstanceNormalization(axis=-1)(g)\n",
        "\tg = Activation('relu')(g)\n",
        "\t# d128\n",
        "\tg = Conv2D(128, (3,3), strides=(2,2), padding='same', kernel_initializer=init)(g)\n",
        "\tg = InstanceNormalization(axis=-1)(g)\n",
        "\tg = Activation('relu')(g)\n",
        "\t# d256\n",
        "\tg = Conv2D(256, (3,3), strides=(2,2), padding='same', kernel_initializer=init)(g)\n",
        "\tg = InstanceNormalization(axis=-1)(g)\n",
        "\tg = Activation('relu')(g)\n",
        "\t# R256\n",
        "\tfor _ in range(n_resnet):\n",
        "\t\tg = resnet_block_modified(256, g)\n",
        "\t# u128\n",
        "\tg = Conv2DTranspose(128, (3,3), strides=(2,2), padding='same', kernel_initializer=init)(g)\n",
        "\tg = InstanceNormalization(axis=-1)(g)\n",
        "\tg = Activation('relu')(g)\n",
        "\t# u64\n",
        "\tg = Conv2DTranspose(64, (3,3), strides=(2,2), padding='same', kernel_initializer=init)(g)\n",
        "\tg = InstanceNormalization(axis=-1)(g)\n",
        "\tg = Activation('relu')(g)\n",
        "\t# c7s1-3\n",
        "\tg = Conv2D(3, (7,7), padding='same', kernel_initializer=init)(g)\n",
        "\tg = InstanceNormalization(axis=-1)(g)\n",
        "\tout_image = Activation('tanh')(g)\n",
        "\t# define model\n",
        "\tmodel = Model(in_image, out_image)\n",
        "\treturn model"
      ],
      "execution_count": null,
      "outputs": []
    },
    {
      "cell_type": "markdown",
      "source": [
        "## 4.3. Composite Model"
      ],
      "metadata": {
        "id": "iVQxRvJN_0Gt"
      }
    },
    {
      "cell_type": "markdown",
      "metadata": {
        "id": "yQA9vQXDcqbm"
      },
      "source": [
        "## Explain\n",
        "- **Discriminator** models are trained directly on **real and generated** images.\n",
        "- Generator models are trained via their discriminator models to **minimize** the **adversarial loss** [For discriminator decibt]. (**L2 distance** between model out and target values '1: real', '0: fake')\n",
        "- Also, generators have \"**cycle loss**\" [For regeneration]. (2 losses: Fwd + Bwd)\n",
        "- Finally, **Identity loss** [Maintain same image if it's originally from the target domain] (1 Loss)\n",
        "\n",
        "== Both **cycle and Identity loss** are **L1 distance ** between input and output image for each translation \\\n",
        "== A composite model is built to allow sharing the weights of the generator with the related discriminator. \\\n",
        "- The composite model has 2 inputs (images from A and B) and 4 outputs (discriminator out, identity generated image, forward-cycle generated img, bwd cycle img)\n",
        "\n",
        "\n"
      ]
    },
    {
      "cell_type": "code",
      "metadata": {
        "id": "tNu-TP17bIm-"
      },
      "source": [
        "# define a composite model for updating generators by adversarial and cycle loss\n",
        "def define_composite_model(g_model_1, d_model, g_model_2, image_shape):\n",
        "\t# ensure the model we're updating is trainable\n",
        "\tg_model_1.trainable = True\n",
        "\t# mark discriminator as not trainable\n",
        "\td_model.trainable = False\n",
        "\t# mark other generator model as not trainable\n",
        "\tg_model_2.trainable = False\n",
        "\t# discriminator element\n",
        "\tinput_gen = Input(shape=image_shape)\n",
        "\tgen1_out = g_model_1(input_gen)\n",
        "\toutput_d = d_model(gen1_out)\n",
        "\t# identity element\n",
        "\tinput_id = Input(shape=image_shape)\n",
        "\toutput_id = g_model_1(input_id)\n",
        "\t# forward cycle\n",
        "\toutput_f = g_model_2(gen1_out)\n",
        "\t# backward cycle\n",
        "\tgen2_out = g_model_2(input_id)\n",
        "\toutput_b = g_model_1(gen2_out)\n",
        "\t# define model graph\n",
        "\tmodel = Model([input_gen, input_id], [output_d, output_id, output_f, output_b])\n",
        "\t# define optimization algorithm configuration\n",
        "\topt = Adam(lr=0.0002, beta_1=0.5)\n",
        "\t# compile model with weighting of least squares loss and L1 loss\n",
        "\tmodel.compile(loss=['mse', 'mae', 'mae', 'mae'], loss_weights=[1, 5, 10, 10], optimizer=opt)\n",
        "\treturn model"
      ],
      "execution_count": null,
      "outputs": []
    },
    {
      "cell_type": "markdown",
      "metadata": {
        "id": "A6cp3gbHnQHj"
      },
      "source": [
        "We need to create a composite model for each generator: Generator-A (input: B, out: A) and Generator B. \\\n",
        "- Here: A -> Horse \\\n",
        "\n",
        "**Generator-A Composite Model** (BtoA or Zebra to Horse)\n",
        "\n",
        "The inputs, transformations, and outputs of the model are as follows:\n",
        "\n",
        "**Adversarial Loss**: Domain-B -> Generator-A -> Domain-A -> Discriminator-A -> [real/fake]\n",
        "**Identity Loss**: Domain-A -> Generator-A -> Domain-A\n",
        "**Forward Cycle Loss**: Domain-B -> Generator-A -> Domain-A -> Generator-B -> Domain-B\n",
        "**Backward Cycle Loss**: Domain-A -> Generator-B -> Domain-B -> Generator-A -> Domain-A\n",
        "We can summarize the inputs and outputs as:\n",
        "\n",
        "Inputs: Domain-B, Domain-A\n",
        "Outputs: Real/Fake, Domain-A, Domain-B, Domain-A\n"
      ]
    },
    {
      "cell_type": "markdown",
      "metadata": {
        "id": "UTmvSMEWotIt"
      },
      "source": [
        "# 5. Functions for Images shuffling and reconstruction\n",
        "### 5.1. Load images as a list of 2 numpy array (coming from the compressed NPZ) [1st source image, 2nd target image]"
      ]
    },
    {
      "cell_type": "code",
      "metadata": {
        "id": "T1ckrfTSfGdM"
      },
      "source": [
        "# load and prepare training images\n",
        "def load_real_samples(filename):\n",
        "\t# load the dataset\n",
        "\tdata = load(filename)\n",
        "\t# unpack arrays\n",
        "\tX1, X2 = data['arr_0'], data['arr_1']\n",
        "\t# scale from [0,255] to [-1,1]\n",
        "\tX1 = (X1 - 127.5) / 127.5\n",
        "\tX2 = (X2 - 127.5) / 127.5\n",
        "\treturn [X1, X2]"
      ],
      "execution_count": null,
      "outputs": []
    },
    {
      "cell_type": "markdown",
      "metadata": {
        "id": "J9D4SHLNpEqy"
      },
      "source": [
        "### 5.2. Selecting Random batches of images from each domain for the discriminator and composite generator"
      ]
    },
    {
      "cell_type": "code",
      "metadata": {
        "id": "_v0ffPmyo_Bh"
      },
      "source": [
        "# select a batch of random samples, returns images and target\n",
        "def generate_real_samples(dataset, n_samples, patch_shape):\n",
        "\t# choose random instances\n",
        "\tix = randint(0, dataset.shape[0], n_samples)\n",
        "\t# retrieve selected images\n",
        "\tX = dataset[ix]\n",
        "\t# generate 'real' class labels (1)\n",
        "\ty = ones((n_samples, patch_shape, patch_shape, 1))\n",
        "\treturn X, y"
      ],
      "execution_count": null,
      "outputs": []
    },
    {
      "cell_type": "markdown",
      "metadata": {
        "id": "EHAPNfL2pVeY"
      },
      "source": [
        "### 5.3. Select Sample of generated images to update the discriminator"
      ]
    },
    {
      "cell_type": "code",
      "metadata": {
        "id": "XU9HzK8vpTvG"
      },
      "source": [
        "# generate a batch of images, returns images and targets\n",
        "def generate_fake_samples(g_model, dataset, patch_shape):\n",
        "\t# generate fake instance\n",
        "\tX = g_model.predict(dataset)\n",
        "\t# create 'fake' class labels (0)\n",
        "\ty = zeros((len(X), patch_shape, patch_shape, 1))\n",
        "\treturn X, y"
      ],
      "execution_count": null,
      "outputs": []
    },
    {
      "cell_type": "markdown",
      "metadata": {
        "id": "AGfxeZwVrfpR"
      },
      "source": [
        "Note that GANs don't converge rather they reach an **equilibrium** state, thus we can decide when to **stop** (epochs) based on the **generated image quality** (save generator each n epochs and generate with it)"
      ]
    },
    {
      "cell_type": "markdown",
      "metadata": {
        "id": "A4WqXOLQsCoX"
      },
      "source": [
        "# 6. Model performance\n",
        "### 6.1. Save generator models each epoch"
      ]
    },
    {
      "cell_type": "code",
      "metadata": {
        "id": "z0NEZwu3pi4K"
      },
      "source": [
        "# save the generator models to file\n",
        "def save_models(step, g_model_AtoB, g_model_BtoA):\n",
        "\t# save the first generator model\n",
        "\tfilename1 = 'g_model_AtoB_%06d.h5' % (step+1)\n",
        "\tg_model_AtoB.save(filename1)\n",
        "\t# save the second generator model\n",
        "\tfilename2 = 'g_model_BtoA_%06d.h5' % (step+1)\n",
        "\tg_model_BtoA.save(filename2)\n",
        "\tprint('>Saved: %s and %s' % (filename1, filename2))"
      ],
      "execution_count": null,
      "outputs": []
    },
    {
      "cell_type": "markdown",
      "metadata": {
        "id": "LxB0z3_-sKI1"
      },
      "source": [
        "### 6.2. For tracking: Plot Sample of source images (1st row) against the generated images (2nd row)"
      ]
    },
    {
      "cell_type": "code",
      "metadata": {
        "id": "gyLkl9eYsBYc"
      },
      "source": [
        "# generate samples and save as a plot and save the model\n",
        "def summarize_performance(step, g_model, trainX, name, n_samples=5):\n",
        "\t# select a sample of input images\n",
        "\tX_in, _ = generate_real_samples(trainX, n_samples, 0)\n",
        "\t# generate translated images\n",
        "\tX_out, _ = generate_fake_samples(g_model, X_in, 0)\n",
        "\t# scale all pixels from [-1,1] to [0,1]\n",
        "\tX_in = (X_in + 1) / 2.0\n",
        "\tX_out = (X_out + 1) / 2.0\n",
        "\t# plot real images\n",
        "\tfor i in range(n_samples):\n",
        "\t\tpyplot.subplot(2, n_samples, 1 + i)\n",
        "\t\tpyplot.axis('off')\n",
        "\t\tpyplot.imshow(X_in[i])\n",
        "\t# plot translated image\n",
        "\tfor i in range(n_samples):\n",
        "\t\tpyplot.subplot(2, n_samples, 1 + n_samples + i)\n",
        "\t\tpyplot.axis('off')\n",
        "\t\tpyplot.imshow(X_out[i])\n",
        "\t# save plot to file\n",
        "\tfilename1 = '%s_generated_plot_%06d.png' % (name, (step+1))\n",
        "\tpyplot.savefig(filename1)\n",
        "\tpyplot.close()"
      ],
      "execution_count": null,
      "outputs": []
    },
    {
      "cell_type": "markdown",
      "metadata": {
        "id": "Ro3DH5hUsj56"
      },
      "source": [
        "#### Note: Image Pool for discriminator"
      ]
    },
    {
      "cell_type": "code",
      "metadata": {
        "id": "8QGj-FzksBZn"
      },
      "source": [
        "# update image pool for fake images\n",
        "def update_image_pool(pool, images, max_size=50):\n",
        "\tselected = list()\n",
        "\tfor image in images:\n",
        "\t\tif len(pool) < max_size:\n",
        "\t\t\t# stock the pool\n",
        "\t\t\tpool.append(image)\n",
        "\t\t\tselected.append(image)\n",
        "\t\telif random() < 0.5:\n",
        "\t\t\t# use image, but don't add it to the pool\n",
        "\t\t\tselected.append(image)\n",
        "\t\telse:\n",
        "\t\t\t# replace an existing image and use replaced image\n",
        "\t\t\tix = randint(0, len(pool))\n",
        "\t\t\tselected.append(pool[ix])\n",
        "\t\t\tpool[ix] = image\n",
        "\treturn asarray(selected)"
      ],
      "execution_count": null,
      "outputs": []
    },
    {
      "cell_type": "markdown",
      "metadata": {
        "id": "fPtJvEZksvno"
      },
      "source": [
        "# 7. Train Models\n",
        "The batch size is 1, so the number of iterations in each epoch. Models are saved every 5 epochs.\n",
        "\n",
        "Images are generated using both generators each epoch.\n",
        "\n",
        "Batch of real images from each domain is selected then a batch of fake images is generated to update each discriminator's fake image pool.\n",
        "\n",
        "Generator-A is updated by the composite model then by discriminator-A."
      ]
    },
    {
      "cell_type": "code",
      "metadata": {
        "id": "yN9Ael7dsu8r"
      },
      "source": [
        "# train cyclegan models\n",
        "### 2 generator, 2 discriminator, 2 composite\n",
        "def train(d_model_A, d_model_B, g_model_AtoB, g_model_BtoA, c_model_AtoB, c_model_BtoA, dataset):\n",
        "\t# define properties of the training run\n",
        "  #### epochs: changed to 10 to fasten the work a bit\n",
        "\tn_epochs, n_batch, = 20, 1\n",
        "\t# determine the output square shape of the discriminator\n",
        "\tn_patch = d_model_A.output_shape[1]\n",
        "\t# unpack dataset\n",
        "\ttrainA, trainB = dataset\n",
        "\t# prepare image pool for fakes\n",
        "\tpoolA, poolB = list(), list()\n",
        "\t# calculate the number of batches per training epoch\n",
        "\tbat_per_epo = int(len(trainA) / n_batch)\n",
        "\t# calculate the number of training iterations\n",
        "\tn_steps = bat_per_epo * n_epochs\n",
        "\t# manually enumerate epochs\n",
        "\tfor i in range(n_steps):\n",
        "\t\t# select a batch of real samples\n",
        "\t\tX_realA, y_realA = generate_real_samples(trainA, n_batch, n_patch)\n",
        "\t\tX_realB, y_realB = generate_real_samples(trainB, n_batch, n_patch)\n",
        "\t\t# generate a batch of fake samples\n",
        "\t\tX_fakeA, y_fakeA = generate_fake_samples(g_model_BtoA, X_realB, n_patch)\n",
        "\t\tX_fakeB, y_fakeB = generate_fake_samples(g_model_AtoB, X_realA, n_patch)\n",
        "\t\t# update fakes from pool\n",
        "\t\tX_fakeA = update_image_pool(poolA, X_fakeA)\n",
        "\t\tX_fakeB = update_image_pool(poolB, X_fakeB)\n",
        "\t\t# update generator B->A via adversarial and cycle loss\n",
        "\t\tg_loss2, _, _, _, _  = c_model_BtoA.train_on_batch([X_realB, X_realA], [y_realA, X_realA, X_realB, X_realA])\n",
        "\t\t# update discriminator for A -> [real/fake]\n",
        "\t\tdA_loss1 = d_model_A.train_on_batch(X_realA, y_realA)\n",
        "\t\tdA_loss2 = d_model_A.train_on_batch(X_fakeA, y_fakeA)\n",
        "\t\t# update generator A->B via adversarial and cycle loss\n",
        "\t\tg_loss1, _, _, _, _ = c_model_AtoB.train_on_batch([X_realA, X_realB], [y_realB, X_realB, X_realA, X_realB])\n",
        "\t\t# update discriminator for B -> [real/fake]\n",
        "\t\tdB_loss1 = d_model_B.train_on_batch(X_realB, y_realB)\n",
        "\t\tdB_loss2 = d_model_B.train_on_batch(X_fakeB, y_fakeB)\n",
        "\t\t# summarize performance\n",
        "\t\tprint('>%d, dA[%.3f,%.3f] dB[%.3f,%.3f] g[%.3f,%.3f]' % (i+1, dA_loss1,dA_loss2, dB_loss1,dB_loss2, g_loss1,g_loss2))\n",
        "\t\t# evaluate the model performance every so often\n",
        "\t\tif (i+1) % (bat_per_epo * 1) == 0:\n",
        "\t\t\t# plot A->B translation\n",
        "\t\t\tsummarize_performance(i, g_model_AtoB, trainA, 'AtoB')\n",
        "\t\t\t# plot B->A translation\n",
        "\t\t\tsummarize_performance(i, g_model_BtoA, trainB, 'BtoA')\n",
        "\t\tif (i+1) % (bat_per_epo * 5) == 0:\n",
        "\t\t\t# save the models\n",
        "\t\t\tsave_models(i, g_model_AtoB, g_model_BtoA)"
      ],
      "execution_count": null,
      "outputs": []
    },
    {
      "cell_type": "code",
      "metadata": {
        "id": "yXt3D33Jsu_e",
        "colab": {
          "base_uri": "https://localhost:8080/",
          "height": 1000
        },
        "outputId": "0d727c84-016f-4abb-ab38-56f1b66c6121"
      },
      "source": [
        "# load image data\n",
        "dataset = load_real_samples('/content/drive/MyDrive/CS_text.npz')\n",
        "\n",
        "print('Loaded', dataset[0].shape, dataset[1].shape)\n",
        "\n",
        "# define input shape based on the loaded dataset\n",
        "image_shape = dataset[0].shape[1:]\n",
        "\n",
        "# generator: A -> B\n",
        "g_model_AtoB = define_generator(image_shape)\n",
        "# generator: B -> A\n",
        "g_model_BtoA = define_generator(image_shape)\n",
        "\n",
        "# discriminator: A -> [real/fake]\n",
        "d_model_A = define_discriminator(image_shape)\n",
        "# discriminator: B -> [real/fake]\n",
        "d_model_B = define_discriminator(image_shape)\n",
        "\n",
        "# composite: A -> B -> [real/fake, A]\n",
        "c_model_AtoB = define_composite_model(g_model_AtoB, d_model_B, g_model_BtoA, image_shape)\n",
        "# composite: B -> A -> [real/fake, B]\n",
        "c_model_BtoA = define_composite_model(g_model_BtoA, d_model_A, g_model_AtoB, image_shape)\n",
        "\n",
        "# train models\n",
        "train(d_model_A, d_model_B, g_model_AtoB, g_model_BtoA, c_model_AtoB, c_model_BtoA, dataset)\n",
        "\n"
      ],
      "execution_count": null,
      "outputs": [
        {
          "output_type": "stream",
          "name": "stdout",
          "text": [
            "Loaded (299, 256, 256, 3) (299, 256, 256, 3)\n"
          ]
        },
        {
          "output_type": "stream",
          "name": "stderr",
          "text": [
            "/usr/local/lib/python3.7/dist-packages/keras/optimizer_v2/adam.py:105: UserWarning: The `lr` argument is deprecated, use `learning_rate` instead.\n",
            "  super(Adam, self).__init__(name, **kwargs)\n"
          ]
        },
        {
          "output_type": "stream",
          "name": "stdout",
          "text": [
            "WARNING:tensorflow:5 out of the last 35881 calls to <function Model.make_train_function.<locals>.train_function at 0x7f5595194440> triggered tf.function retracing. Tracing is expensive and the excessive number of tracings could be due to (1) creating @tf.function repeatedly in a loop, (2) passing tensors with different shapes, (3) passing Python objects instead of tensors. For (1), please define your @tf.function outside of the loop. For (2), @tf.function has experimental_relax_shapes=True option that relaxes argument shapes that can avoid unnecessary retracing. For (3), please refer to https://www.tensorflow.org/guide/function#controlling_retracing and https://www.tensorflow.org/api_docs/python/tf/function for  more details.\n",
            ">1, dA[1.214,0.731] dB[0.673,0.830] g[20.483,19.949]\n",
            ">2, dA[0.839,4.455] dB[8.570,0.703] g[20.698,25.814]\n",
            ">3, dA[1.611,13.302] dB[4.394,0.605] g[20.204,35.249]\n",
            ">4, dA[0.728,8.867] dB[4.575,0.530] g[21.567,26.208]\n",
            ">5, dA[0.999,8.410] dB[1.606,0.556] g[20.207,24.499]\n",
            ">6, dA[0.606,4.926] dB[0.924,0.578] g[20.033,20.408]\n",
            ">7, dA[0.858,2.894] dB[0.687,0.525] g[19.588,18.960]\n",
            ">8, dA[0.649,1.723] dB[0.296,0.514] g[19.316,18.092]\n",
            ">9, dA[2.140,0.329] dB[0.123,0.484] g[18.739,16.857]\n",
            ">10, dA[0.570,0.434] dB[0.105,0.474] g[18.826,17.278]\n",
            ">11, dA[0.541,0.956] dB[0.137,0.531] g[17.997,16.183]\n",
            ">12, dA[0.567,1.294] dB[0.142,0.708] g[19.362,17.683]\n",
            ">13, dA[6.960,0.596] dB[0.201,1.597] g[18.956,15.101]\n",
            ">14, dA[0.665,0.072] dB[0.132,1.057] g[19.214,14.738]\n",
            ">15, dA[0.506,0.035] dB[0.110,0.701] g[19.982,18.282]\n",
            ">16, dA[0.573,0.029] dB[0.052,0.660] g[17.763,14.375]\n",
            ">17, dA[0.491,0.021] dB[0.058,0.614] g[17.442,13.993]\n",
            ">18, dA[0.548,0.019] dB[0.069,0.529] g[17.196,13.916]\n",
            ">19, dA[0.094,0.014] dB[0.068,7.077] g[29.641,13.589]\n",
            ">20, dA[0.444,0.019] dB[0.064,0.609] g[19.243,16.809]\n",
            ">21, dA[0.469,0.021] dB[0.064,0.728] g[17.670,13.488]\n",
            ">22, dA[0.397,0.028] dB[0.047,0.720] g[17.160,13.497]\n",
            ">23, dA[3.383,0.049] dB[0.051,0.683] g[16.801,13.632]\n",
            ">24, dA[0.432,0.140] dB[0.035,0.603] g[21.041,19.536]\n",
            ">25, dA[0.055,0.513] dB[0.036,4.770] g[26.554,19.692]\n",
            ">26, dA[0.493,2.138] dB[0.049,0.822] g[19.336,17.790]\n",
            ">27, dA[0.461,3.511] dB[0.061,0.964] g[17.438,15.666]\n",
            ">28, dA[2.464,2.230] dB[0.163,0.966] g[17.186,14.625]\n",
            ">29, dA[0.402,0.594] dB[0.391,0.529] g[16.693,13.676]\n",
            ">30, dA[3.737,0.227] dB[0.462,1.878] g[18.990,13.410]\n",
            ">31, dA[0.524,0.132] dB[0.307,0.665] g[16.591,13.187]\n",
            ">32, dA[0.644,0.075] dB[0.107,0.745] g[16.775,13.115]\n",
            ">33, dA[0.475,0.056] dB[0.055,0.671] g[16.605,13.052]\n",
            ">34, dA[0.571,0.057] dB[0.033,0.730] g[16.332,12.889]\n",
            ">35, dA[0.438,0.078] dB[0.048,0.885] g[18.760,16.479]\n",
            ">36, dA[0.521,0.160] dB[0.128,2.517] g[17.898,13.076]\n",
            ">37, dA[0.444,0.437] dB[0.690,1.014] g[17.157,13.128]\n",
            ">38, dA[0.402,1.123] dB[0.118,0.470] g[20.796,20.362]\n",
            ">39, dA[0.373,1.328] dB[0.056,0.485] g[16.531,13.601]\n",
            ">40, dA[0.477,0.775] dB[0.045,0.386] g[16.026,12.952]\n",
            ">41, dA[0.430,0.455] dB[0.023,0.578] g[19.102,16.933]\n",
            ">42, dA[0.340,0.294] dB[0.046,0.452] g[19.530,18.256]\n",
            ">43, dA[1.336,0.188] dB[0.020,0.941] g[17.200,12.769]\n",
            ">44, dA[2.833,0.297] dB[0.021,0.752] g[16.625,12.791]\n",
            ">45, dA[0.436,0.727] dB[0.026,0.366] g[18.630,17.202]\n",
            ">46, dA[0.545,1.144] dB[0.081,0.367] g[16.333,13.325]\n",
            ">47, dA[0.385,0.948] dB[0.018,0.530] g[16.290,13.056]\n",
            ">48, dA[0.396,0.595] dB[0.071,0.364] g[15.990,12.792]\n",
            ">49, dA[0.375,0.448] dB[0.028,0.269] g[15.898,12.693]\n",
            ">50, dA[0.457,0.712] dB[0.018,0.346] g[15.760,12.788]\n",
            ">51, dA[0.398,0.344] dB[0.023,0.165] g[17.876,17.096]\n",
            ">52, dA[0.803,0.981] dB[0.013,0.318] g[15.525,13.558]\n",
            ">53, dA[0.290,0.935] dB[0.030,0.175] g[15.553,13.233]\n",
            ">54, dA[0.274,0.145] dB[0.021,0.269] g[16.352,14.372]\n",
            ">55, dA[0.369,0.081] dB[0.038,0.336] g[15.304,12.033]\n",
            ">56, dA[0.434,0.113] dB[0.021,0.228] g[15.433,12.253]\n",
            ">57, dA[0.354,0.146] dB[0.039,0.166] g[15.392,11.904]\n",
            ">58, dA[0.329,0.071] dB[0.028,0.151] g[15.129,11.988]\n",
            ">59, dA[0.137,0.076] dB[0.015,0.552] g[19.580,18.000]\n",
            ">60, dA[0.306,0.048] dB[0.013,0.135] g[15.258,12.051]\n",
            ">61, dA[1.127,0.017] dB[0.025,0.132] g[14.781,11.160]\n",
            ">62, dA[0.374,0.013] dB[0.022,0.096] g[15.206,11.850]\n",
            ">63, dA[0.592,0.250] dB[0.009,0.344] g[15.148,11.865]\n",
            ">64, dA[0.568,0.055] dB[0.050,0.152] g[14.452,11.648]\n",
            ">65, dA[0.452,0.072] dB[0.021,0.090] g[14.855,12.157]\n",
            ">66, dA[0.431,0.012] dB[0.032,1.018] g[14.899,11.349]\n",
            ">67, dA[0.311,0.439] dB[0.105,0.353] g[22.275,22.480]\n",
            ">68, dA[0.195,0.684] dB[0.148,0.163] g[17.734,16.989]\n",
            ">69, dA[0.388,0.334] dB[0.079,0.077] g[14.464,13.240]\n",
            ">70, dA[0.364,0.262] dB[0.026,0.074] g[15.142,12.790]\n",
            ">71, dA[0.919,0.261] dB[0.026,0.210] g[14.312,11.145]\n",
            ">72, dA[0.262,0.096] dB[0.028,0.088] g[16.364,14.553]\n",
            ">73, dA[2.061,0.202] dB[0.055,0.056] g[14.144,10.877]\n",
            ">74, dA[0.425,0.160] dB[0.024,0.057] g[14.624,11.567]\n",
            ">75, dA[0.291,0.178] dB[0.016,0.052] g[17.737,16.413]\n",
            ">76, dA[0.321,0.217] dB[0.020,0.193] g[18.617,17.601]\n",
            ">77, dA[0.228,0.262] dB[0.025,0.122] g[14.134,11.435]\n",
            ">78, dA[0.315,0.122] dB[0.008,0.265] g[14.453,11.738]\n",
            ">79, dA[0.181,0.315] dB[0.014,0.226] g[14.476,12.211]\n",
            ">80, dA[0.745,0.208] dB[0.027,1.562] g[14.387,12.011]\n",
            ">81, dA[0.823,0.232] dB[0.067,0.062] g[14.569,12.176]\n",
            ">82, dA[0.578,0.338] dB[0.037,0.054] g[14.622,11.811]\n",
            ">83, dA[0.559,0.171] dB[0.020,0.409] g[14.415,11.525]\n",
            ">84, dA[0.473,0.153] dB[0.057,0.273] g[14.299,11.819]\n",
            ">85, dA[0.196,0.197] dB[0.026,0.081] g[18.734,18.287]\n",
            ">86, dA[0.296,0.126] dB[0.029,0.042] g[14.269,11.218]\n",
            ">87, dA[0.160,0.096] dB[0.020,0.037] g[17.226,15.625]\n",
            ">88, dA[0.188,0.212] dB[0.006,0.031] g[14.154,10.595]\n",
            ">89, dA[0.320,0.065] dB[0.007,0.615] g[14.557,11.449]\n",
            ">90, dA[0.197,0.090] dB[0.016,0.048] g[14.516,12.123]\n",
            ">91, dA[0.226,0.138] dB[0.011,0.025] g[14.357,11.060]\n",
            ">92, dA[0.120,0.169] dB[0.008,0.031] g[19.506,18.935]\n",
            ">93, dA[0.315,0.394] dB[0.007,0.051] g[13.714,10.480]\n",
            ">94, dA[0.292,0.440] dB[0.006,0.335] g[14.257,11.399]\n",
            ">95, dA[0.357,0.080] dB[0.040,0.370] g[14.338,11.464]\n",
            ">96, dA[0.165,0.037] dB[0.043,0.777] g[14.158,10.328]\n",
            ">97, dA[0.189,0.132] dB[0.025,0.055] g[13.994,10.490]\n",
            ">98, dA[0.302,0.474] dB[0.011,0.527] g[13.452,9.884]\n",
            ">99, dA[0.291,0.085] dB[0.050,0.187] g[14.264,11.138]\n",
            ">100, dA[0.312,0.209] dB[0.010,0.050] g[14.682,12.339]\n",
            ">101, dA[0.269,0.141] dB[0.013,0.036] g[14.568,12.161]\n",
            ">102, dA[0.216,0.245] dB[0.010,0.205] g[14.641,11.638]\n",
            ">103, dA[0.274,0.171] dB[0.020,0.254] g[14.341,11.541]\n",
            ">104, dA[0.255,0.163] dB[0.008,0.179] g[14.152,11.024]\n",
            ">105, dA[0.255,0.085] dB[0.015,0.025] g[13.883,10.673]\n",
            ">106, dA[0.282,0.027] dB[0.010,0.185] g[14.169,11.033]\n",
            ">107, dA[0.226,0.021] dB[0.004,0.152] g[13.790,10.523]\n",
            ">108, dA[0.218,0.286] dB[0.016,0.020] g[15.480,12.834]\n",
            ">109, dA[0.261,0.165] dB[0.014,0.023] g[13.905,10.964]\n",
            ">110, dA[0.090,0.127] dB[0.004,0.016] g[14.000,10.960]\n",
            ">111, dA[0.195,0.207] dB[0.005,0.022] g[14.707,11.691]\n",
            ">112, dA[0.239,0.395] dB[0.004,0.018] g[14.284,11.257]\n",
            ">113, dA[0.361,0.247] dB[0.006,0.155] g[13.475,11.295]\n",
            ">114, dA[0.102,0.180] dB[0.010,0.081] g[14.041,11.456]\n",
            ">115, dA[0.264,0.113] dB[0.013,0.030] g[14.127,11.577]\n",
            ">116, dA[0.101,0.205] dB[0.011,0.031] g[17.290,16.146]\n",
            ">117, dA[0.096,0.311] dB[0.012,0.022] g[17.031,16.336]\n",
            ">118, dA[0.230,0.348] dB[0.011,0.014] g[13.641,11.053]\n",
            ">119, dA[0.215,0.175] dB[0.006,0.200] g[14.411,12.025]\n",
            ">120, dA[0.188,0.245] dB[0.029,0.052] g[13.801,10.941]\n",
            ">121, dA[0.240,0.106] dB[0.014,0.017] g[13.898,10.974]\n",
            ">122, dA[0.176,0.289] dB[0.004,0.041] g[13.755,11.028]\n",
            ">123, dA[0.159,0.163] dB[0.005,0.696] g[13.891,11.247]\n",
            ">124, dA[0.217,0.207] dB[0.041,0.609] g[14.392,11.724]\n",
            ">125, dA[0.250,0.543] dB[0.031,0.042] g[13.862,10.835]\n",
            ">126, dA[0.146,0.283] dB[0.026,0.505] g[13.625,11.238]\n",
            ">127, dA[0.295,0.256] dB[0.096,0.128] g[12.894,9.921]\n",
            ">128, dA[0.139,0.455] dB[0.062,0.981] g[17.389,15.580]\n",
            ">129, dA[0.270,0.101] dB[0.386,0.099] g[15.173,10.984]\n",
            ">130, dA[0.105,0.076] dB[0.087,0.085] g[13.497,10.615]\n",
            ">131, dA[0.243,0.055] dB[0.024,0.040] g[13.157,9.545]\n",
            ">132, dA[0.147,0.153] dB[0.015,0.033] g[16.523,14.395]\n",
            ">133, dA[0.218,0.063] dB[0.007,0.025] g[18.431,17.659]\n",
            ">134, dA[0.197,0.044] dB[0.008,0.060] g[13.293,10.274]\n",
            ">135, dA[0.198,0.076] dB[0.014,0.019] g[13.874,10.532]\n",
            ">136, dA[0.204,0.354] dB[0.007,0.049] g[13.674,10.321]\n",
            ">137, dA[0.184,0.092] dB[0.007,0.045] g[13.461,10.302]\n",
            ">138, dA[0.246,0.286] dB[0.009,1.586] g[18.272,17.063]\n",
            ">139, dA[0.164,0.469] dB[0.343,0.151] g[13.429,10.317]\n",
            ">140, dA[0.284,1.301] dB[0.088,0.138] g[13.235,11.220]\n",
            ">141, dA[0.172,0.186] dB[0.113,1.334] g[14.691,12.820]\n",
            ">142, dA[0.193,0.273] dB[0.122,0.078] g[14.703,12.001]\n",
            ">143, dA[0.118,0.564] dB[0.025,0.071] g[15.258,13.934]\n",
            ">144, dA[0.279,0.149] dB[0.020,1.378] g[13.897,11.474]\n",
            ">145, dA[0.302,0.129] dB[0.046,0.136] g[14.233,12.058]\n",
            ">146, dA[0.154,0.110] dB[0.017,0.056] g[21.563,22.318]\n",
            ">147, dA[0.140,0.267] dB[0.015,0.036] g[13.395,10.028]\n",
            ">148, dA[0.268,0.272] dB[0.008,0.047] g[13.791,13.623]\n",
            ">149, dA[0.097,0.203] dB[0.009,0.034] g[17.029,17.818]\n",
            ">150, dA[0.180,0.220] dB[0.012,0.026] g[13.944,11.060]\n",
            ">151, dA[0.230,0.133] dB[0.005,0.046] g[13.179,10.075]\n",
            ">152, dA[0.180,0.190] dB[0.007,0.012] g[16.677,15.418]\n",
            ">153, dA[0.180,0.170] dB[0.006,0.990] g[14.226,11.621]\n",
            ">154, dA[0.072,0.221] dB[0.049,0.265] g[17.147,15.745]\n",
            ">155, dA[0.182,0.163] dB[0.020,0.090] g[13.410,10.358]\n",
            ">156, dA[0.088,0.120] dB[0.013,0.054] g[13.270,10.209]\n",
            ">157, dA[0.182,0.030] dB[0.027,0.054] g[13.721,10.146]\n",
            ">158, dA[0.164,0.253] dB[0.006,0.026] g[14.272,11.244]\n",
            ">159, dA[0.219,0.090] dB[0.013,0.017] g[14.057,11.613]\n",
            ">160, dA[0.168,0.118] dB[0.005,0.322] g[17.213,16.731]\n",
            ">161, dA[0.072,0.108] dB[0.007,0.243] g[16.656,15.948]\n",
            ">162, dA[0.128,0.035] dB[0.120,0.176] g[15.198,11.397]\n",
            ">163, dA[0.128,0.282] dB[0.051,0.059] g[14.266,10.836]\n",
            ">164, dA[0.182,0.087] dB[0.019,0.027] g[13.700,10.669]\n",
            ">165, dA[0.241,0.079] dB[0.012,0.021] g[13.795,10.650]\n",
            ">166, dA[0.090,0.128] dB[0.005,0.013] g[18.300,17.448]\n",
            ">167, dA[0.199,0.286] dB[0.005,0.022] g[14.207,11.491]\n",
            ">168, dA[0.225,0.149] dB[0.004,0.018] g[13.593,11.034]\n",
            ">169, dA[0.209,0.374] dB[0.007,0.024] g[14.243,11.483]\n",
            ">170, dA[0.198,0.081] dB[0.006,0.013] g[14.218,11.385]\n",
            ">171, dA[0.159,0.030] dB[0.006,0.016] g[13.745,10.589]\n",
            ">172, dA[0.139,0.361] dB[0.004,0.067] g[13.964,10.964]\n",
            ">173, dA[0.185,0.201] dB[0.010,0.013] g[13.409,10.409]\n",
            ">174, dA[0.223,0.255] dB[0.005,0.024] g[13.220,10.561]\n",
            ">175, dA[0.184,0.213] dB[0.007,0.017] g[14.117,11.045]\n",
            ">176, dA[0.169,0.046] dB[0.004,0.010] g[13.467,10.253]\n",
            ">177, dA[0.171,0.045] dB[0.003,0.027] g[16.412,14.908]\n",
            ">178, dA[0.117,0.288] dB[0.010,0.016] g[13.320,9.585]\n",
            ">179, dA[0.079,0.168] dB[0.005,0.007] g[13.185,10.018]\n",
            ">180, dA[0.098,0.337] dB[0.004,0.006] g[17.025,16.331]\n",
            ">181, dA[0.177,0.225] dB[0.002,0.021] g[13.204,10.077]\n",
            ">182, dA[0.079,0.259] dB[0.005,0.015] g[13.591,10.144]\n",
            ">183, dA[0.197,0.213] dB[0.007,0.015] g[12.850,9.523]\n",
            ">184, dA[0.307,0.302] dB[0.001,0.336] g[14.660,13.032]\n",
            ">185, dA[0.311,0.081] dB[0.006,0.026] g[14.397,11.745]\n",
            ">186, dA[0.090,0.027] dB[0.005,0.011] g[13.760,10.911]\n",
            ">187, dA[0.150,0.190] dB[0.004,0.421] g[13.522,10.419]\n",
            ">188, dA[0.091,0.193] dB[0.006,0.006] g[13.308,10.061]\n",
            ">189, dA[0.289,0.473] dB[0.003,0.008] g[12.819,9.168]\n",
            ">190, dA[0.322,1.068] dB[0.003,0.127] g[12.712,10.079]\n",
            ">191, dA[0.431,1.049] dB[0.010,0.028] g[13.045,11.042]\n",
            ">192, dA[0.384,0.790] dB[0.008,0.213] g[13.713,11.464]\n",
            ">193, dA[0.172,0.294] dB[0.046,0.211] g[16.572,14.597]\n",
            ">194, dA[0.353,0.021] dB[0.030,0.016] g[13.522,11.007]\n",
            ">195, dA[0.155,0.199] dB[0.008,0.017] g[13.080,9.982]\n",
            ">196, dA[0.171,0.111] dB[0.003,0.036] g[13.863,11.056]\n",
            ">197, dA[0.125,0.013] dB[0.014,0.010] g[13.323,9.870]\n",
            ">198, dA[0.116,0.238] dB[0.005,0.046] g[13.837,10.827]\n",
            ">199, dA[0.085,0.053] dB[0.012,0.011] g[17.989,16.920]\n",
            ">200, dA[0.164,0.063] dB[0.003,0.122] g[13.221,10.311]\n",
            ">201, dA[0.144,0.120] dB[0.005,0.028] g[13.063,9.863]\n",
            ">202, dA[0.150,0.056] dB[0.008,0.025] g[13.358,9.874]\n",
            ">203, dA[0.106,0.106] dB[0.003,0.025] g[18.021,17.047]\n",
            ">204, dA[0.139,0.488] dB[0.003,0.017] g[13.626,10.480]\n",
            ">205, dA[0.275,0.476] dB[0.002,0.019] g[13.532,10.668]\n",
            ">206, dA[0.397,0.608] dB[0.005,0.007] g[14.341,13.438]\n",
            ">207, dA[0.473,0.266] dB[0.004,0.020] g[12.958,11.072]\n",
            ">208, dA[0.366,0.245] dB[0.006,0.012] g[12.962,9.994]\n",
            ">209, dA[0.219,0.156] dB[0.002,0.007] g[16.522,15.225]\n",
            ">210, dA[0.216,0.089] dB[0.003,0.012] g[13.029,10.268]\n",
            ">211, dA[0.184,0.067] dB[0.002,0.011] g[13.959,11.889]\n",
            ">212, dA[0.163,0.085] dB[0.003,0.014] g[15.721,14.140]\n",
            ">213, dA[0.388,0.049] dB[0.003,0.057] g[12.631,9.823]\n",
            ">214, dA[0.114,0.052] dB[0.007,0.040] g[12.957,10.138]\n",
            ">215, dA[0.107,0.093] dB[0.026,0.005] g[13.379,10.131]\n",
            ">216, dA[0.069,0.035] dB[0.003,0.007] g[16.038,14.445]\n",
            ">217, dA[0.219,0.110] dB[0.001,0.019] g[13.185,10.337]\n",
            ">218, dA[0.107,0.034] dB[0.006,0.010] g[13.107,10.005]\n",
            ">219, dA[0.340,0.164] dB[0.003,0.014] g[12.769,9.112]\n",
            ">220, dA[0.156,0.070] dB[0.003,0.015] g[15.815,14.186]\n",
            ">221, dA[0.136,0.105] dB[0.002,0.005] g[13.992,11.450]\n",
            ">222, dA[0.160,0.070] dB[0.002,0.010] g[16.602,15.260]\n",
            ">223, dA[0.170,0.054] dB[0.003,0.006] g[13.630,10.730]\n",
            ">224, dA[0.054,0.078] dB[0.002,0.007] g[16.943,15.622]\n",
            ">225, dA[0.123,0.080] dB[0.003,0.007] g[13.442,10.167]\n",
            ">226, dA[0.193,0.011] dB[0.002,0.028] g[13.357,10.056]\n",
            ">227, dA[0.210,0.032] dB[0.008,0.008] g[12.557,9.300]\n",
            ">228, dA[0.096,0.310] dB[0.003,0.012] g[16.495,14.801]\n",
            ">229, dA[0.137,0.148] dB[0.007,0.006] g[13.473,10.510]\n",
            ">230, dA[0.191,0.363] dB[0.006,0.006] g[13.536,10.698]\n",
            ">231, dA[0.352,0.105] dB[0.002,0.004] g[14.316,12.847]\n",
            ">232, dA[0.148,0.044] dB[0.002,0.012] g[17.885,16.824]\n",
            ">233, dA[0.068,0.020] dB[0.006,0.013] g[12.937,9.934]\n",
            ">234, dA[0.133,0.098] dB[0.003,0.005] g[12.720,9.418]\n",
            ">235, dA[0.115,0.025] dB[0.001,0.015] g[12.462,9.011]\n",
            ">236, dA[0.081,0.219] dB[0.004,0.184] g[13.521,10.111]\n",
            ">237, dA[0.215,0.066] dB[0.005,0.015] g[12.798,10.000]\n",
            ">238, dA[0.254,0.027] dB[0.007,0.007] g[13.594,10.985]\n",
            ">239, dA[0.103,0.068] dB[0.003,0.006] g[12.838,9.365]\n",
            ">240, dA[0.078,0.042] dB[0.002,0.015] g[13.720,10.691]\n",
            ">241, dA[0.157,0.116] dB[0.008,0.006] g[12.607,8.772]\n",
            ">242, dA[0.151,0.173] dB[0.002,0.005] g[15.269,12.923]\n",
            ">243, dA[0.248,0.048] dB[0.002,0.005] g[13.112,9.883]\n",
            ">244, dA[0.130,0.275] dB[0.002,0.005] g[13.258,9.874]\n",
            ">245, dA[0.195,0.060] dB[0.002,0.003] g[12.662,9.386]\n",
            ">246, dA[0.064,0.091] dB[0.001,0.013] g[12.848,9.448]\n",
            ">247, dA[0.109,0.419] dB[0.007,0.008] g[12.979,9.560]\n",
            ">248, dA[0.211,0.092] dB[0.003,0.009] g[13.787,11.512]\n",
            ">249, dA[0.133,0.097] dB[0.001,0.008] g[13.140,10.170]\n",
            ">250, dA[0.082,0.108] dB[0.002,0.005] g[13.105,9.926]\n",
            ">251, dA[0.117,0.056] dB[0.002,0.014] g[15.832,14.335]\n",
            ">252, dA[0.124,0.063] dB[0.004,0.011] g[12.611,9.604]\n",
            ">253, dA[0.122,0.045] dB[0.003,0.005] g[14.138,11.755]\n",
            ">254, dA[0.164,0.030] dB[0.002,0.004] g[15.071,13.035]\n",
            ">255, dA[0.068,0.011] dB[0.001,0.003] g[13.378,10.313]\n",
            ">256, dA[0.084,0.100] dB[0.002,0.020] g[12.985,9.549]\n",
            ">257, dA[0.139,0.029] dB[0.006,0.004] g[13.118,10.158]\n",
            ">258, dA[0.138,0.031] dB[0.002,0.009] g[13.021,9.835]\n",
            ">259, dA[0.107,0.217] dB[0.005,0.219] g[12.844,9.358]\n",
            ">260, dA[0.125,0.231] dB[0.035,0.013] g[13.403,9.871]\n",
            ">261, dA[0.140,0.232] dB[0.021,0.014] g[13.112,10.127]\n",
            ">262, dA[0.049,0.045] dB[0.004,0.018] g[15.896,14.300]\n",
            ">263, dA[0.112,0.014] dB[0.007,0.019] g[12.299,9.433]\n",
            ">264, dA[0.063,0.132] dB[0.006,0.009] g[12.866,9.490]\n",
            ">265, dA[0.151,0.039] dB[0.005,0.014] g[12.802,9.409]\n",
            ">266, dA[0.106,0.106] dB[0.002,0.016] g[12.406,8.809]\n",
            ">267, dA[0.088,0.070] dB[0.003,0.009] g[12.797,9.421]\n",
            ">268, dA[0.092,0.067] dB[0.004,0.044] g[12.406,8.902]\n",
            ">269, dA[0.108,0.018] dB[0.013,0.025] g[17.227,16.554]\n",
            ">270, dA[0.078,0.162] dB[0.013,0.011] g[12.952,9.329]\n",
            ">271, dA[0.064,0.050] dB[0.004,0.010] g[14.541,11.995]\n",
            ">272, dA[0.087,0.074] dB[0.003,0.006] g[12.259,9.001]\n",
            ">273, dA[0.082,0.229] dB[0.004,0.008] g[12.988,9.447]\n",
            ">274, dA[0.165,0.057] dB[0.002,0.005] g[12.672,9.266]\n",
            ">275, dA[0.077,0.122] dB[0.004,0.008] g[16.139,14.545]\n",
            ">276, dA[0.097,0.024] dB[0.004,0.004] g[13.835,11.057]\n",
            ">277, dA[0.062,0.025] dB[0.002,0.009] g[20.947,21.773]\n",
            ">278, dA[0.080,0.020] dB[0.003,0.007] g[12.387,9.097]\n",
            ">279, dA[0.108,0.093] dB[0.003,0.013] g[12.155,8.762]\n",
            ">280, dA[0.100,0.026] dB[0.006,0.007] g[12.762,9.088]\n",
            ">281, dA[0.140,0.276] dB[0.004,0.003] g[17.512,16.338]\n",
            ">282, dA[0.133,0.022] dB[0.003,0.007] g[13.648,10.689]\n",
            ">283, dA[0.041,0.115] dB[0.002,0.005] g[15.091,12.917]\n",
            ">284, dA[0.149,0.118] dB[0.003,0.004] g[12.968,9.810]\n",
            ">285, dA[0.104,0.135] dB[0.001,0.005] g[16.768,15.708]\n",
            ">286, dA[0.127,0.065] dB[0.001,0.008] g[12.837,9.535]\n",
            ">287, dA[0.047,0.246] dB[0.004,0.009] g[12.345,8.846]\n",
            ">288, dA[0.177,0.140] dB[0.002,0.012] g[12.793,9.853]\n",
            ">289, dA[0.159,0.029] dB[0.003,0.016] g[13.699,11.037]\n"
          ]
        },
        {
          "output_type": "error",
          "ename": "KeyboardInterrupt",
          "evalue": "ignored",
          "traceback": [
            "\u001b[0;31m---------------------------------------------------------------------------\u001b[0m",
            "\u001b[0;31mKeyboardInterrupt\u001b[0m                         Traceback (most recent call last)",
            "\u001b[0;32m<ipython-input-48-712f7fecd85f>\u001b[0m in \u001b[0;36m<module>\u001b[0;34m()\u001b[0m\n\u001b[1;32m     23\u001b[0m \u001b[0;34m\u001b[0m\u001b[0m\n\u001b[1;32m     24\u001b[0m \u001b[0;31m# train models\u001b[0m\u001b[0;34m\u001b[0m\u001b[0;34m\u001b[0m\u001b[0;34m\u001b[0m\u001b[0m\n\u001b[0;32m---> 25\u001b[0;31m \u001b[0mtrain\u001b[0m\u001b[0;34m(\u001b[0m\u001b[0md_model_A\u001b[0m\u001b[0;34m,\u001b[0m \u001b[0md_model_B\u001b[0m\u001b[0;34m,\u001b[0m \u001b[0mg_model_AtoB\u001b[0m\u001b[0;34m,\u001b[0m \u001b[0mg_model_BtoA\u001b[0m\u001b[0;34m,\u001b[0m \u001b[0mc_model_AtoB\u001b[0m\u001b[0;34m,\u001b[0m \u001b[0mc_model_BtoA\u001b[0m\u001b[0;34m,\u001b[0m \u001b[0mdataset\u001b[0m\u001b[0;34m)\u001b[0m\u001b[0;34m\u001b[0m\u001b[0;34m\u001b[0m\u001b[0m\n\u001b[0m\u001b[1;32m     26\u001b[0m \u001b[0;34m\u001b[0m\u001b[0m\n",
            "\u001b[0;32m<ipython-input-47-43536268155a>\u001b[0m in \u001b[0;36mtrain\u001b[0;34m(d_model_A, d_model_B, g_model_AtoB, g_model_BtoA, c_model_AtoB, c_model_BtoA, dataset)\u001b[0m\n\u001b[1;32m     27\u001b[0m                 \u001b[0mX_fakeB\u001b[0m \u001b[0;34m=\u001b[0m \u001b[0mupdate_image_pool\u001b[0m\u001b[0;34m(\u001b[0m\u001b[0mpoolB\u001b[0m\u001b[0;34m,\u001b[0m \u001b[0mX_fakeB\u001b[0m\u001b[0;34m)\u001b[0m\u001b[0;34m\u001b[0m\u001b[0;34m\u001b[0m\u001b[0m\n\u001b[1;32m     28\u001b[0m                 \u001b[0;31m# update generator B->A via adversarial and cycle loss\u001b[0m\u001b[0;34m\u001b[0m\u001b[0;34m\u001b[0m\u001b[0;34m\u001b[0m\u001b[0m\n\u001b[0;32m---> 29\u001b[0;31m                 \u001b[0mg_loss2\u001b[0m\u001b[0;34m,\u001b[0m \u001b[0m_\u001b[0m\u001b[0;34m,\u001b[0m \u001b[0m_\u001b[0m\u001b[0;34m,\u001b[0m \u001b[0m_\u001b[0m\u001b[0;34m,\u001b[0m \u001b[0m_\u001b[0m  \u001b[0;34m=\u001b[0m \u001b[0mc_model_BtoA\u001b[0m\u001b[0;34m.\u001b[0m\u001b[0mtrain_on_batch\u001b[0m\u001b[0;34m(\u001b[0m\u001b[0;34m[\u001b[0m\u001b[0mX_realB\u001b[0m\u001b[0;34m,\u001b[0m \u001b[0mX_realA\u001b[0m\u001b[0;34m]\u001b[0m\u001b[0;34m,\u001b[0m \u001b[0;34m[\u001b[0m\u001b[0my_realA\u001b[0m\u001b[0;34m,\u001b[0m \u001b[0mX_realA\u001b[0m\u001b[0;34m,\u001b[0m \u001b[0mX_realB\u001b[0m\u001b[0;34m,\u001b[0m \u001b[0mX_realA\u001b[0m\u001b[0;34m]\u001b[0m\u001b[0;34m)\u001b[0m\u001b[0;34m\u001b[0m\u001b[0;34m\u001b[0m\u001b[0m\n\u001b[0m\u001b[1;32m     30\u001b[0m                 \u001b[0;31m# update discriminator for A -> [real/fake]\u001b[0m\u001b[0;34m\u001b[0m\u001b[0;34m\u001b[0m\u001b[0;34m\u001b[0m\u001b[0m\n\u001b[1;32m     31\u001b[0m                 \u001b[0mdA_loss1\u001b[0m \u001b[0;34m=\u001b[0m \u001b[0md_model_A\u001b[0m\u001b[0;34m.\u001b[0m\u001b[0mtrain_on_batch\u001b[0m\u001b[0;34m(\u001b[0m\u001b[0mX_realA\u001b[0m\u001b[0;34m,\u001b[0m \u001b[0my_realA\u001b[0m\u001b[0;34m)\u001b[0m\u001b[0;34m\u001b[0m\u001b[0;34m\u001b[0m\u001b[0m\n",
            "\u001b[0;32m/usr/local/lib/python3.7/dist-packages/keras/engine/training.py\u001b[0m in \u001b[0;36mtrain_on_batch\u001b[0;34m(self, x, y, sample_weight, class_weight, reset_metrics, return_dict)\u001b[0m\n\u001b[1;32m   1898\u001b[0m                                                     class_weight)\n\u001b[1;32m   1899\u001b[0m       \u001b[0mself\u001b[0m\u001b[0;34m.\u001b[0m\u001b[0mtrain_function\u001b[0m \u001b[0;34m=\u001b[0m \u001b[0mself\u001b[0m\u001b[0;34m.\u001b[0m\u001b[0mmake_train_function\u001b[0m\u001b[0;34m(\u001b[0m\u001b[0;34m)\u001b[0m\u001b[0;34m\u001b[0m\u001b[0;34m\u001b[0m\u001b[0m\n\u001b[0;32m-> 1900\u001b[0;31m       \u001b[0mlogs\u001b[0m \u001b[0;34m=\u001b[0m \u001b[0mself\u001b[0m\u001b[0;34m.\u001b[0m\u001b[0mtrain_function\u001b[0m\u001b[0;34m(\u001b[0m\u001b[0miterator\u001b[0m\u001b[0;34m)\u001b[0m\u001b[0;34m\u001b[0m\u001b[0;34m\u001b[0m\u001b[0m\n\u001b[0m\u001b[1;32m   1901\u001b[0m \u001b[0;34m\u001b[0m\u001b[0m\n\u001b[1;32m   1902\u001b[0m     \u001b[0mlogs\u001b[0m \u001b[0;34m=\u001b[0m \u001b[0mtf_utils\u001b[0m\u001b[0;34m.\u001b[0m\u001b[0msync_to_numpy_or_python_type\u001b[0m\u001b[0;34m(\u001b[0m\u001b[0mlogs\u001b[0m\u001b[0;34m)\u001b[0m\u001b[0;34m\u001b[0m\u001b[0;34m\u001b[0m\u001b[0m\n",
            "\u001b[0;32m/usr/local/lib/python3.7/dist-packages/tensorflow/python/util/traceback_utils.py\u001b[0m in \u001b[0;36merror_handler\u001b[0;34m(*args, **kwargs)\u001b[0m\n\u001b[1;32m    148\u001b[0m     \u001b[0mfiltered_tb\u001b[0m \u001b[0;34m=\u001b[0m \u001b[0;32mNone\u001b[0m\u001b[0;34m\u001b[0m\u001b[0;34m\u001b[0m\u001b[0m\n\u001b[1;32m    149\u001b[0m     \u001b[0;32mtry\u001b[0m\u001b[0;34m:\u001b[0m\u001b[0;34m\u001b[0m\u001b[0;34m\u001b[0m\u001b[0m\n\u001b[0;32m--> 150\u001b[0;31m       \u001b[0;32mreturn\u001b[0m \u001b[0mfn\u001b[0m\u001b[0;34m(\u001b[0m\u001b[0;34m*\u001b[0m\u001b[0margs\u001b[0m\u001b[0;34m,\u001b[0m \u001b[0;34m**\u001b[0m\u001b[0mkwargs\u001b[0m\u001b[0;34m)\u001b[0m\u001b[0;34m\u001b[0m\u001b[0;34m\u001b[0m\u001b[0m\n\u001b[0m\u001b[1;32m    151\u001b[0m     \u001b[0;32mexcept\u001b[0m \u001b[0mException\u001b[0m \u001b[0;32mas\u001b[0m \u001b[0me\u001b[0m\u001b[0;34m:\u001b[0m\u001b[0;34m\u001b[0m\u001b[0;34m\u001b[0m\u001b[0m\n\u001b[1;32m    152\u001b[0m       \u001b[0mfiltered_tb\u001b[0m \u001b[0;34m=\u001b[0m \u001b[0m_process_traceback_frames\u001b[0m\u001b[0;34m(\u001b[0m\u001b[0me\u001b[0m\u001b[0;34m.\u001b[0m\u001b[0m__traceback__\u001b[0m\u001b[0;34m)\u001b[0m\u001b[0;34m\u001b[0m\u001b[0;34m\u001b[0m\u001b[0m\n",
            "\u001b[0;32m/usr/local/lib/python3.7/dist-packages/tensorflow/python/eager/def_function.py\u001b[0m in \u001b[0;36m__call__\u001b[0;34m(self, *args, **kwds)\u001b[0m\n\u001b[1;32m    908\u001b[0m \u001b[0;34m\u001b[0m\u001b[0m\n\u001b[1;32m    909\u001b[0m       \u001b[0;32mwith\u001b[0m \u001b[0mOptionalXlaContext\u001b[0m\u001b[0;34m(\u001b[0m\u001b[0mself\u001b[0m\u001b[0;34m.\u001b[0m\u001b[0m_jit_compile\u001b[0m\u001b[0;34m)\u001b[0m\u001b[0;34m:\u001b[0m\u001b[0;34m\u001b[0m\u001b[0;34m\u001b[0m\u001b[0m\n\u001b[0;32m--> 910\u001b[0;31m         \u001b[0mresult\u001b[0m \u001b[0;34m=\u001b[0m \u001b[0mself\u001b[0m\u001b[0;34m.\u001b[0m\u001b[0m_call\u001b[0m\u001b[0;34m(\u001b[0m\u001b[0;34m*\u001b[0m\u001b[0margs\u001b[0m\u001b[0;34m,\u001b[0m \u001b[0;34m**\u001b[0m\u001b[0mkwds\u001b[0m\u001b[0;34m)\u001b[0m\u001b[0;34m\u001b[0m\u001b[0;34m\u001b[0m\u001b[0m\n\u001b[0m\u001b[1;32m    911\u001b[0m \u001b[0;34m\u001b[0m\u001b[0m\n\u001b[1;32m    912\u001b[0m       \u001b[0mnew_tracing_count\u001b[0m \u001b[0;34m=\u001b[0m \u001b[0mself\u001b[0m\u001b[0;34m.\u001b[0m\u001b[0mexperimental_get_tracing_count\u001b[0m\u001b[0;34m(\u001b[0m\u001b[0;34m)\u001b[0m\u001b[0;34m\u001b[0m\u001b[0;34m\u001b[0m\u001b[0m\n",
            "\u001b[0;32m/usr/local/lib/python3.7/dist-packages/tensorflow/python/eager/def_function.py\u001b[0m in \u001b[0;36m_call\u001b[0;34m(self, *args, **kwds)\u001b[0m\n\u001b[1;32m    940\u001b[0m       \u001b[0;31m# In this case we have created variables on the first call, so we run the\u001b[0m\u001b[0;34m\u001b[0m\u001b[0;34m\u001b[0m\u001b[0;34m\u001b[0m\u001b[0m\n\u001b[1;32m    941\u001b[0m       \u001b[0;31m# defunned version which is guaranteed to never create variables.\u001b[0m\u001b[0;34m\u001b[0m\u001b[0;34m\u001b[0m\u001b[0;34m\u001b[0m\u001b[0m\n\u001b[0;32m--> 942\u001b[0;31m       \u001b[0;32mreturn\u001b[0m \u001b[0mself\u001b[0m\u001b[0;34m.\u001b[0m\u001b[0m_stateless_fn\u001b[0m\u001b[0;34m(\u001b[0m\u001b[0;34m*\u001b[0m\u001b[0margs\u001b[0m\u001b[0;34m,\u001b[0m \u001b[0;34m**\u001b[0m\u001b[0mkwds\u001b[0m\u001b[0;34m)\u001b[0m  \u001b[0;31m# pylint: disable=not-callable\u001b[0m\u001b[0;34m\u001b[0m\u001b[0;34m\u001b[0m\u001b[0m\n\u001b[0m\u001b[1;32m    943\u001b[0m     \u001b[0;32melif\u001b[0m \u001b[0mself\u001b[0m\u001b[0;34m.\u001b[0m\u001b[0m_stateful_fn\u001b[0m \u001b[0;32mis\u001b[0m \u001b[0;32mnot\u001b[0m \u001b[0;32mNone\u001b[0m\u001b[0;34m:\u001b[0m\u001b[0;34m\u001b[0m\u001b[0;34m\u001b[0m\u001b[0m\n\u001b[1;32m    944\u001b[0m       \u001b[0;31m# Release the lock early so that multiple threads can perform the call\u001b[0m\u001b[0;34m\u001b[0m\u001b[0;34m\u001b[0m\u001b[0;34m\u001b[0m\u001b[0m\n",
            "\u001b[0;32m/usr/local/lib/python3.7/dist-packages/tensorflow/python/eager/function.py\u001b[0m in \u001b[0;36m__call__\u001b[0;34m(self, *args, **kwargs)\u001b[0m\n\u001b[1;32m   3129\u001b[0m        filtered_flat_args) = self._maybe_define_function(args, kwargs)\n\u001b[1;32m   3130\u001b[0m     return graph_function._call_flat(\n\u001b[0;32m-> 3131\u001b[0;31m         filtered_flat_args, captured_inputs=graph_function.captured_inputs)  # pylint: disable=protected-access\n\u001b[0m\u001b[1;32m   3132\u001b[0m \u001b[0;34m\u001b[0m\u001b[0m\n\u001b[1;32m   3133\u001b[0m   \u001b[0;34m@\u001b[0m\u001b[0mproperty\u001b[0m\u001b[0;34m\u001b[0m\u001b[0;34m\u001b[0m\u001b[0m\n",
            "\u001b[0;32m/usr/local/lib/python3.7/dist-packages/tensorflow/python/eager/function.py\u001b[0m in \u001b[0;36m_call_flat\u001b[0;34m(self, args, captured_inputs, cancellation_manager)\u001b[0m\n\u001b[1;32m   1958\u001b[0m       \u001b[0;31m# No tape is watching; skip to running the function.\u001b[0m\u001b[0;34m\u001b[0m\u001b[0;34m\u001b[0m\u001b[0;34m\u001b[0m\u001b[0m\n\u001b[1;32m   1959\u001b[0m       return self._build_call_outputs(self._inference_function.call(\n\u001b[0;32m-> 1960\u001b[0;31m           ctx, args, cancellation_manager=cancellation_manager))\n\u001b[0m\u001b[1;32m   1961\u001b[0m     forward_backward = self._select_forward_and_backward_functions(\n\u001b[1;32m   1962\u001b[0m         \u001b[0margs\u001b[0m\u001b[0;34m,\u001b[0m\u001b[0;34m\u001b[0m\u001b[0;34m\u001b[0m\u001b[0m\n",
            "\u001b[0;32m/usr/local/lib/python3.7/dist-packages/tensorflow/python/eager/function.py\u001b[0m in \u001b[0;36mcall\u001b[0;34m(self, ctx, args, cancellation_manager)\u001b[0m\n\u001b[1;32m    601\u001b[0m               \u001b[0minputs\u001b[0m\u001b[0;34m=\u001b[0m\u001b[0margs\u001b[0m\u001b[0;34m,\u001b[0m\u001b[0;34m\u001b[0m\u001b[0;34m\u001b[0m\u001b[0m\n\u001b[1;32m    602\u001b[0m               \u001b[0mattrs\u001b[0m\u001b[0;34m=\u001b[0m\u001b[0mattrs\u001b[0m\u001b[0;34m,\u001b[0m\u001b[0;34m\u001b[0m\u001b[0;34m\u001b[0m\u001b[0m\n\u001b[0;32m--> 603\u001b[0;31m               ctx=ctx)\n\u001b[0m\u001b[1;32m    604\u001b[0m         \u001b[0;32melse\u001b[0m\u001b[0;34m:\u001b[0m\u001b[0;34m\u001b[0m\u001b[0;34m\u001b[0m\u001b[0m\n\u001b[1;32m    605\u001b[0m           outputs = execute.execute_with_cancellation(\n",
            "\u001b[0;32m/usr/local/lib/python3.7/dist-packages/tensorflow/python/eager/execute.py\u001b[0m in \u001b[0;36mquick_execute\u001b[0;34m(op_name, num_outputs, inputs, attrs, ctx, name)\u001b[0m\n\u001b[1;32m     57\u001b[0m     \u001b[0mctx\u001b[0m\u001b[0;34m.\u001b[0m\u001b[0mensure_initialized\u001b[0m\u001b[0;34m(\u001b[0m\u001b[0;34m)\u001b[0m\u001b[0;34m\u001b[0m\u001b[0;34m\u001b[0m\u001b[0m\n\u001b[1;32m     58\u001b[0m     tensors = pywrap_tfe.TFE_Py_Execute(ctx._handle, device_name, op_name,\n\u001b[0;32m---> 59\u001b[0;31m                                         inputs, attrs, num_outputs)\n\u001b[0m\u001b[1;32m     60\u001b[0m   \u001b[0;32mexcept\u001b[0m \u001b[0mcore\u001b[0m\u001b[0;34m.\u001b[0m\u001b[0m_NotOkStatusException\u001b[0m \u001b[0;32mas\u001b[0m \u001b[0me\u001b[0m\u001b[0;34m:\u001b[0m\u001b[0;34m\u001b[0m\u001b[0;34m\u001b[0m\u001b[0m\n\u001b[1;32m     61\u001b[0m     \u001b[0;32mif\u001b[0m \u001b[0mname\u001b[0m \u001b[0;32mis\u001b[0m \u001b[0;32mnot\u001b[0m \u001b[0;32mNone\u001b[0m\u001b[0;34m:\u001b[0m\u001b[0;34m\u001b[0m\u001b[0;34m\u001b[0m\u001b[0m\n",
            "\u001b[0;31mKeyboardInterrupt\u001b[0m: "
          ]
        }
      ]
    },
    {
      "cell_type": "markdown",
      "metadata": {
        "id": "rIqfWMGnGjI9"
      },
      "source": [
        "**Trials**\n",
        "For small Data (37, 38 train images):\n",
        "1. For 5 epochs and  => no change in the images just a little bluring.\n",
        "2. For 100 epochs and same number of images => Same as the previous (we need large number of dataset)\n",
        "\n",
        "===> As this didn't work, we must provide some sort of large dataset."
      ]
    },
    {
      "cell_type": "markdown",
      "metadata": {
        "id": "hUDgKzAI21S3"
      },
      "source": [
        "# 8. Image Translation with Cycle-GAN (Reconstruction Example)"
      ]
    },
    {
      "cell_type": "code",
      "metadata": {
        "id": "BtcLYXVC_MVV"
      },
      "source": [
        "# select a random sample of images from the dataset\n",
        "def select_sample(dataset, n_samples):\n",
        "\t# choose random instances\n",
        "\tix = randint(0, dataset.shape[0], n_samples)\n",
        "\t# retrieve selected images\n",
        "\tX = dataset[ix]\n",
        "\treturn X"
      ],
      "execution_count": null,
      "outputs": []
    },
    {
      "cell_type": "code",
      "metadata": {
        "id": "GbGmI_g0_z3E"
      },
      "source": [
        "# plot the image, the translation, and the reconstruction\n",
        "def show_plot(imagesX, imagesY1, imagesY2):\n",
        "\timages = vstack((imagesX, imagesY1, imagesY2))\n",
        "\ttitles = ['Real', 'Generated', 'Reconstructed']\n",
        "\t# scale from [-1,1] to [0,1]\n",
        "\timages = (images + 1) / 2.0\n",
        "\t# plot images row by row\n",
        "\tfor i in range(len(images)):\n",
        "\t\t# define subplot\n",
        "\t\tpyplot.subplot(1, len(images), 1 + i)\n",
        "\t\t# turn off axis\n",
        "\t\tpyplot.axis('off')\n",
        "\t\t# plot raw pixel data\n",
        "\t\tpyplot.imshow(images[i])\n",
        "\t\t# title\n",
        "\t\tpyplot.title(titles[i])\n",
        "\tpyplot.show()"
      ],
      "execution_count": null,
      "outputs": []
    },
    {
      "cell_type": "code",
      "metadata": {
        "id": "teyB-lTRssW6",
        "colab": {
          "base_uri": "https://localhost:8080/"
        },
        "outputId": "cbe732fc-242e-442f-dc5c-3fd742956f09"
      },
      "source": [
        "# load dataset\n",
        "A_data, B_data = load_real_samples('/content/drive/MyDrive/CS_text.npz')\n",
        "print('Loaded', A_data.shape, B_data.shape)"
      ],
      "execution_count": null,
      "outputs": [
        {
          "output_type": "stream",
          "name": "stdout",
          "text": [
            "Loaded (299, 256, 256, 3) (299, 256, 256, 3)\n"
          ]
        }
      ]
    },
    {
      "cell_type": "code",
      "metadata": {
        "colab": {
          "base_uri": "https://localhost:8080/"
        },
        "id": "08lABdNv9c5J",
        "outputId": "ca1b2fa0-ce52-4bb7-8ac9-a4ad5a0c4908"
      },
      "source": [
        "#### Specify how to load the InstanceNormalization layer while loading the genenrator model\n",
        "# load the models\n",
        "## Take the generators at epoch 7\n",
        "cust = {'InstanceNormalization': InstanceNormalization}\n",
        "model_AtoB = load_model('/content/g_model_AtoB_001495.h5', cust)\n",
        "model_BtoA = load_model('/content/g_model_BtoA_001495.h5', cust)"
      ],
      "execution_count": null,
      "outputs": [
        {
          "output_type": "stream",
          "name": "stdout",
          "text": [
            "WARNING:tensorflow:No training configuration found in the save file, so the model was *not* compiled. Compile it manually.\n",
            "WARNING:tensorflow:No training configuration found in the save file, so the model was *not* compiled. Compile it manually.\n"
          ]
        }
      ]
    },
    {
      "cell_type": "code",
      "metadata": {
        "colab": {
          "base_uri": "https://localhost:8080/",
          "height": 145
        },
        "id": "vwbhORJW_QGT",
        "outputId": "947ce428-d1b6-4dac-d802-0e35dc5cf1fb"
      },
      "source": [
        "## Select image from Domain-A, convert it to B by generator AtoB\n",
        "## then reconstruct it to A again by Generator BtoA\n",
        "\n",
        "# plot A->B->A\n",
        "A_real = select_sample(A_data, 1)\n",
        "B_generated  = model_AtoB.predict(A_real)\n",
        "A_reconstructed = model_BtoA.predict(B_generated)\n",
        "show_plot(A_real, B_generated, A_reconstructed)"
      ],
      "execution_count": null,
      "outputs": [
        {
          "output_type": "display_data",
          "data": {
            "image/png": "[encoded data removed]",
            "text/plain": [
              "<Figure size 432x288 with 3 Axes>"
            ]
          },
          "metadata": {
            "needs_background": "light"
          }
        }
      ]
    },
    {
      "cell_type": "code",
      "metadata": {
        "colab": {
          "base_uri": "https://localhost:8080/",
          "height": 145
        },
        "id": "4LgAI43BANmP",
        "outputId": "e9a6e56c-157c-4be8-f72c-11a67c14ee41"
      },
      "source": [
        "# plot B->A->B\n",
        "B_real = select_sample(B_data, 1)\n",
        "A_generated  = model_BtoA.predict(B_real)\n",
        "B_reconstructed = model_AtoB.predict(A_generated)\n",
        "show_plot(B_real, A_generated, B_reconstructed)\n"
      ],
      "execution_count": null,
      "outputs": [
        {
          "output_type": "display_data",
          "data": {
            "image/png": "[encoded data removed]",
            "text/plain": [
              "<Figure size 432x288 with 3 Axes>"
            ]
          },
          "metadata": {
            "needs_background": "light"
          }
        }
      ]
    },
    {
      "cell_type": "markdown",
      "metadata": {
        "id": "Z421mghCAaf7"
      },
      "source": [
        "# 9. Beneficial Extensions (General)\n",
        "\n",
        "- Smaller Image Size. Update the example to use a smaller image size, such as 128×128\n",
        "- Adjust the size of the generator model to use 6 ResNet layers as is used in the cycleGAN paper.\n",
        "- Without Identity Mapping. Update the example to train the generator models without the identity mapping and compare results.\n",
        "- Try with mini-batch; instead of batch = 1, make it 16\n",
        "\n",
        "And more sophisticated ones discussed in the presentation"
      ]
    },
    {
      "cell_type": "code",
      "metadata": {
        "id": "iKSEyyzXAlp6"
      },
      "source": [
        ""
      ],
      "execution_count": null,
      "outputs": []
    }
  ]
}